{
 "cells": [
  {
   "cell_type": "code",
   "execution_count": 17,
   "metadata": {},
   "outputs": [],
   "source": [
    "import keras\n",
    "from keras import layers\n",
    "\n",
    "encoding_dim = 32\n",
    "\n",
    "input_img = keras.Input(shape=(784,))\n",
    "\n",
    "encoded = layers.Dense(encoding_dim, activation='relu')(input_img)\n",
    "decoded = layers.Dense(784, activation='sigmoid')(encoded)\n",
    "autoencoder = keras.Model(input_img, decoded)"
   ]
  },
  {
   "cell_type": "code",
   "execution_count": 18,
   "metadata": {},
   "outputs": [],
   "source": [
    "autoencoder.compile(optimizer='adam', loss='binary_crossentropy')"
   ]
  },
  {
   "cell_type": "code",
   "execution_count": 19,
   "metadata": {},
   "outputs": [
    {
     "name": "stdout",
     "output_type": "stream",
     "text": [
      "(60000, 784)\n",
      "(10000, 784)\n"
     ]
    }
   ],
   "source": [
    "from keras.datasets import mnist\n",
    "import numpy as np\n",
    "(x_train, _), (x_test, _) = mnist.load_data()\n",
    "\n",
    "x_train = x_train.astype('float32') / 255.\n",
    "x_test = x_test.astype('float32') / 255.\n",
    "x_train = x_train.reshape((len(x_train), np.prod(x_train.shape[1:])))\n",
    "x_test = x_test.reshape((len(x_test), np.prod(x_test.shape[1:])))\n",
    "print(x_train.shape)\n",
    "print(x_test.shape)"
   ]
  },
  {
   "cell_type": "code",
   "execution_count": 20,
   "metadata": {},
   "outputs": [
    {
     "name": "stdout",
     "output_type": "stream",
     "text": [
      "Epoch 1/50\n",
      "235/235 [==============================] - 1s 4ms/step - loss: 0.2767 - val_loss: 0.1947\n",
      "Epoch 2/50\n",
      "235/235 [==============================] - 1s 3ms/step - loss: 0.1735 - val_loss: 0.1546\n",
      "Epoch 3/50\n",
      "235/235 [==============================] - 1s 3ms/step - loss: 0.1451 - val_loss: 0.1341\n",
      "Epoch 4/50\n",
      "235/235 [==============================] - 1s 3ms/step - loss: 0.1289 - val_loss: 0.1216\n",
      "Epoch 5/50\n",
      "235/235 [==============================] - 1s 3ms/step - loss: 0.1183 - val_loss: 0.1132\n",
      "Epoch 6/50\n",
      "235/235 [==============================] - 1s 3ms/step - loss: 0.1110 - val_loss: 0.1068\n",
      "Epoch 7/50\n",
      "235/235 [==============================] - 1s 3ms/step - loss: 0.1057 - val_loss: 0.1024\n",
      "Epoch 8/50\n",
      "235/235 [==============================] - 1s 3ms/step - loss: 0.1020 - val_loss: 0.0991\n",
      "Epoch 9/50\n",
      "235/235 [==============================] - 1s 3ms/step - loss: 0.0992 - val_loss: 0.0969\n",
      "Epoch 10/50\n",
      "235/235 [==============================] - 1s 3ms/step - loss: 0.0973 - val_loss: 0.0954\n",
      "Epoch 11/50\n",
      "235/235 [==============================] - 1s 3ms/step - loss: 0.0961 - val_loss: 0.0944\n",
      "Epoch 12/50\n",
      "235/235 [==============================] - 1s 3ms/step - loss: 0.0953 - val_loss: 0.0936\n",
      "Epoch 13/50\n",
      "235/235 [==============================] - 1s 4ms/step - loss: 0.0947 - val_loss: 0.0932\n",
      "Epoch 14/50\n",
      "235/235 [==============================] - 1s 3ms/step - loss: 0.0943 - val_loss: 0.0928\n",
      "Epoch 15/50\n",
      "235/235 [==============================] - 1s 3ms/step - loss: 0.0941 - val_loss: 0.0927\n",
      "Epoch 16/50\n",
      "235/235 [==============================] - 1s 3ms/step - loss: 0.0938 - val_loss: 0.0925\n",
      "Epoch 17/50\n",
      "235/235 [==============================] - 1s 3ms/step - loss: 0.0937 - val_loss: 0.0923\n",
      "Epoch 18/50\n",
      "235/235 [==============================] - 1s 4ms/step - loss: 0.0936 - val_loss: 0.0922\n",
      "Epoch 19/50\n",
      "235/235 [==============================] - 1s 3ms/step - loss: 0.0934 - val_loss: 0.0922\n",
      "Epoch 20/50\n",
      "235/235 [==============================] - 1s 3ms/step - loss: 0.0933 - val_loss: 0.0921\n",
      "Epoch 21/50\n",
      "235/235 [==============================] - 1s 3ms/step - loss: 0.0933 - val_loss: 0.0920\n",
      "Epoch 22/50\n",
      "235/235 [==============================] - 1s 4ms/step - loss: 0.0932 - val_loss: 0.0920\n",
      "Epoch 23/50\n",
      "235/235 [==============================] - 1s 3ms/step - loss: 0.0931 - val_loss: 0.0919\n",
      "Epoch 24/50\n",
      "235/235 [==============================] - 1s 4ms/step - loss: 0.0931 - val_loss: 0.0919\n",
      "Epoch 25/50\n",
      "235/235 [==============================] - 1s 3ms/step - loss: 0.0930 - val_loss: 0.0918\n",
      "Epoch 26/50\n",
      "235/235 [==============================] - 1s 3ms/step - loss: 0.0930 - val_loss: 0.0917\n",
      "Epoch 27/50\n",
      "235/235 [==============================] - 1s 3ms/step - loss: 0.0929 - val_loss: 0.0918\n",
      "Epoch 28/50\n",
      "235/235 [==============================] - 1s 3ms/step - loss: 0.0929 - val_loss: 0.0917\n",
      "Epoch 29/50\n",
      "235/235 [==============================] - 1s 3ms/step - loss: 0.0929 - val_loss: 0.0917\n",
      "Epoch 30/50\n",
      "235/235 [==============================] - 1s 3ms/step - loss: 0.0929 - val_loss: 0.0917\n",
      "Epoch 31/50\n",
      "235/235 [==============================] - 1s 3ms/step - loss: 0.0928 - val_loss: 0.0916\n",
      "Epoch 32/50\n",
      "235/235 [==============================] - 1s 3ms/step - loss: 0.0928 - val_loss: 0.0917\n",
      "Epoch 33/50\n",
      "235/235 [==============================] - 1s 3ms/step - loss: 0.0928 - val_loss: 0.0916\n",
      "Epoch 34/50\n",
      "235/235 [==============================] - 1s 3ms/step - loss: 0.0927 - val_loss: 0.0916\n",
      "Epoch 35/50\n",
      "235/235 [==============================] - 1s 3ms/step - loss: 0.0927 - val_loss: 0.0915\n",
      "Epoch 36/50\n",
      "235/235 [==============================] - 1s 3ms/step - loss: 0.0927 - val_loss: 0.0916\n",
      "Epoch 37/50\n",
      "235/235 [==============================] - 1s 4ms/step - loss: 0.0927 - val_loss: 0.0916\n",
      "Epoch 38/50\n",
      "235/235 [==============================] - 1s 4ms/step - loss: 0.0927 - val_loss: 0.0916\n",
      "Epoch 39/50\n",
      "235/235 [==============================] - 1s 3ms/step - loss: 0.0927 - val_loss: 0.0915\n",
      "Epoch 40/50\n",
      "235/235 [==============================] - 1s 3ms/step - loss: 0.0927 - val_loss: 0.0915\n",
      "Epoch 41/50\n",
      "235/235 [==============================] - 1s 3ms/step - loss: 0.0926 - val_loss: 0.0915\n",
      "Epoch 42/50\n",
      "235/235 [==============================] - 1s 3ms/step - loss: 0.0926 - val_loss: 0.0914\n",
      "Epoch 43/50\n",
      "235/235 [==============================] - 1s 3ms/step - loss: 0.0926 - val_loss: 0.0915\n",
      "Epoch 44/50\n",
      "235/235 [==============================] - 1s 3ms/step - loss: 0.0926 - val_loss: 0.0914\n",
      "Epoch 45/50\n",
      "235/235 [==============================] - 1s 3ms/step - loss: 0.0926 - val_loss: 0.0914\n",
      "Epoch 46/50\n",
      "235/235 [==============================] - 1s 3ms/step - loss: 0.0926 - val_loss: 0.0914\n",
      "Epoch 47/50\n",
      "235/235 [==============================] - 1s 3ms/step - loss: 0.0926 - val_loss: 0.0914\n",
      "Epoch 48/50\n",
      "235/235 [==============================] - 1s 3ms/step - loss: 0.0926 - val_loss: 0.0914\n",
      "Epoch 49/50\n",
      "235/235 [==============================] - 1s 3ms/step - loss: 0.0925 - val_loss: 0.0915\n",
      "Epoch 50/50\n",
      "235/235 [==============================] - 1s 3ms/step - loss: 0.0925 - val_loss: 0.0914\n"
     ]
    }
   ],
   "source": [
    "history = autoencoder.fit(x_train, x_train,\n",
    "                epochs=50,\n",
    "                batch_size=256,\n",
    "                shuffle=True,\n",
    "                validation_data=(x_test, x_test))"
   ]
  },
  {
   "cell_type": "code",
   "execution_count": 21,
   "metadata": {},
   "outputs": [
    {
     "data": {
      "text/plain": [
       "<matplotlib.legend.Legend at 0x27e01a86c88>"
      ]
     },
     "execution_count": 21,
     "metadata": {},
     "output_type": "execute_result"
    },
    {
     "data": {
      "image/png": "[encoded data removed]",
      "text/plain": [
       "<Figure size 432x288 with 1 Axes>"
      ]
     },
     "metadata": {
      "needs_background": "light"
     },
     "output_type": "display_data"
    }
   ],
   "source": [
    "loss = history.history['loss']\n",
    "val_loss = history.history['val_loss']\n",
    "\n",
    "epochs = range(50)\n",
    "\n",
    "import matplotlib.pyplot as plt\n",
    "plt.plot(epochs,loss,'r',label='train loss')\n",
    "plt.plot(epochs,val_loss,'b',label='val loss')\n",
    "plt.legend()"
   ]
  },
  {
   "cell_type": "code",
   "execution_count": 22,
   "metadata": {},
   "outputs": [],
   "source": [
    "reconstruc_imgs = autoencoder.predict(x_test)"
   ]
  },
  {
   "cell_type": "code",
   "execution_count": 23,
   "metadata": {},
   "outputs": [
    {
     "data": {
      "image/png": "[encoded data removed]",
      "text/plain": [
       "<Figure size 1440x288 with 20 Axes>"
      ]
     },
     "metadata": {
      "needs_background": "light"
     },
     "output_type": "display_data"
    }
   ],
   "source": [
    "import matplotlib.pyplot as plt\n",
    "\n",
    "n = 10  # How many digits we will display\n",
    "plt.figure(figsize=(20, 4))\n",
    "for i in range(n):\n",
    "    # Display original\n",
    "    ax = plt.subplot(2, n, i + 1)\n",
    "    plt.imshow(x_test[i].reshape(28, 28))\n",
    "    plt.gray()\n",
    "    ax.get_xaxis().set_visible(False)\n",
    "    ax.get_yaxis().set_visible(False)\n",
    "\n",
    "    # Display reconstruction\n",
    "    ax = plt.subplot(2, n, i + 1 + n)\n",
    "    plt.imshow(reconstruc_imgs[i].reshape(28, 28))\n",
    "    plt.gray()\n",
    "    ax.get_xaxis().set_visible(False)\n",
    "    ax.get_yaxis().set_visible(False)\n",
    "plt.show()"
   ]
  },
  {
   "cell_type": "code",
   "execution_count": 24,
   "metadata": {},
   "outputs": [],
   "source": [
    "import keras\n",
    "from keras import layers\n",
    "\n",
    "input_img = keras.Input(shape=(28, 28, 1))\n",
    "\n",
    "x = layers.Conv2D(16, (3, 3), activation='relu', padding='same')(input_img)\n",
    "x = layers.MaxPooling2D((2, 2), padding='same')(x)\n",
    "x = layers.Conv2D(8, (3, 3), activation='relu', padding='same')(x)\n",
    "x = layers.MaxPooling2D((2, 2), padding='same')(x)\n",
    "x = layers.Conv2D(8, (3, 3), activation='relu', padding='same')(x)\n",
    "conv_encoded = layers.MaxPooling2D((2, 2), padding='same')(x)\n",
    "\n",
    "x = layers.Conv2D(8, (3, 3), activation='relu', padding='same')(conv_encoded)\n",
    "x = layers.UpSampling2D((2, 2))(x)\n",
    "x = layers.Conv2D(8, (3, 3), activation='relu', padding='same')(x)\n",
    "x = layers.UpSampling2D((2, 2))(x)\n",
    "x = layers.Conv2D(16, (3, 3), activation='relu')(x)\n",
    "x = layers.UpSampling2D((2, 2))(x)\n",
    "conv_decoded = layers.Conv2D(1, (3, 3), activation='sigmoid', padding='same')(x)\n",
    "conv_autoencoder = keras.Model(input_img, conv_decoded)\n",
    "conv_autoencoder.compile(optimizer='adam', loss='binary_crossentropy')"
   ]
  },
  {
   "cell_type": "code",
   "execution_count": 25,
   "metadata": {},
   "outputs": [],
   "source": [
    "from keras.datasets import mnist\n",
    "import numpy as np\n",
    "\n",
    "(x_train, _), (x_test, _) = mnist.load_data()\n",
    "\n",
    "x_train = x_train.astype('float32') / 255.\n",
    "x_test = x_test.astype('float32') / 255.\n",
    "x_train = np.reshape(x_train, (len(x_train), 28, 28, 1))\n",
    "x_test = np.reshape(x_test, (len(x_test), 28, 28, 1))"
   ]
  },
  {
   "cell_type": "code",
   "execution_count": 26,
   "metadata": {},
   "outputs": [
    {
     "name": "stdout",
     "output_type": "stream",
     "text": [
      "Epoch 1/50\n",
      "469/469 [==============================] - 34s 73ms/step - loss: 0.2044 - val_loss: 0.1468\n",
      "Epoch 2/50\n",
      "469/469 [==============================] - 34s 73ms/step - loss: 0.1362 - val_loss: 0.1264\n",
      "Epoch 3/50\n",
      "469/469 [==============================] - 35s 75ms/step - loss: 0.1224 - val_loss: 0.1172\n",
      "Epoch 4/50\n",
      "469/469 [==============================] - 37s 79ms/step - loss: 0.1158 - val_loss: 0.1121\n",
      "Epoch 5/50\n",
      "469/469 [==============================] - 38s 80ms/step - loss: 0.1117 - val_loss: 0.1090\n",
      "Epoch 6/50\n",
      "469/469 [==============================] - 38s 81ms/step - loss: 0.1089 - val_loss: 0.1064\n",
      "Epoch 7/50\n",
      "469/469 [==============================] - 38s 80ms/step - loss: 0.1067 - val_loss: 0.1045\n",
      "Epoch 8/50\n",
      "469/469 [==============================] - 37s 80ms/step - loss: 0.1049 - val_loss: 0.1033\n",
      "Epoch 9/50\n",
      "469/469 [==============================] - 40s 85ms/step - loss: 0.1035 - val_loss: 0.1016\n",
      "Epoch 10/50\n",
      "469/469 [==============================] - 37s 79ms/step - loss: 0.1023 - val_loss: 0.1012\n",
      "Epoch 11/50\n",
      "469/469 [==============================] - 35s 76ms/step - loss: 0.1013 - val_loss: 0.0995\n",
      "Epoch 12/50\n",
      "469/469 [==============================] - 35s 75ms/step - loss: 0.1004 - val_loss: 0.0990\n",
      "Epoch 13/50\n",
      "469/469 [==============================] - 35s 74ms/step - loss: 0.0996 - val_loss: 0.0979\n",
      "Epoch 14/50\n",
      "469/469 [==============================] - 34s 73ms/step - loss: 0.0989 - val_loss: 0.0979\n",
      "Epoch 15/50\n",
      "469/469 [==============================] - 34s 72ms/step - loss: 0.0983 - val_loss: 0.0970\n",
      "Epoch 16/50\n",
      "469/469 [==============================] - 34s 72ms/step - loss: 0.0977 - val_loss: 0.0963\n",
      "Epoch 17/50\n",
      "469/469 [==============================] - 34s 73ms/step - loss: 0.0972 - val_loss: 0.0959\n",
      "Epoch 18/50\n",
      "469/469 [==============================] - 34s 73ms/step - loss: 0.0968 - val_loss: 0.0953\n",
      "Epoch 19/50\n",
      "469/469 [==============================] - 34s 73ms/step - loss: 0.0963 - val_loss: 0.0949\n",
      "Epoch 20/50\n",
      "469/469 [==============================] - 35s 74ms/step - loss: 0.0958 - val_loss: 0.0953\n",
      "Epoch 21/50\n",
      "469/469 [==============================] - 34s 73ms/step - loss: 0.0955 - val_loss: 0.0940\n",
      "Epoch 22/50\n",
      "469/469 [==============================] - 34s 72ms/step - loss: 0.0951 - val_loss: 0.0937\n",
      "Epoch 23/50\n",
      "469/469 [==============================] - 34s 73ms/step - loss: 0.0947 - val_loss: 0.0938\n",
      "Epoch 24/50\n",
      "469/469 [==============================] - 34s 73ms/step - loss: 0.0944 - val_loss: 0.0930\n",
      "Epoch 25/50\n",
      "469/469 [==============================] - 34s 73ms/step - loss: 0.0940 - val_loss: 0.0928\n",
      "Epoch 26/50\n",
      "469/469 [==============================] - 34s 73ms/step - loss: 0.0937 - val_loss: 0.0929\n",
      "Epoch 27/50\n",
      "469/469 [==============================] - 35s 74ms/step - loss: 0.0934 - val_loss: 0.0922\n",
      "Epoch 28/50\n",
      "469/469 [==============================] - 35s 74ms/step - loss: 0.0932 - val_loss: 0.0919\n",
      "Epoch 29/50\n",
      "469/469 [==============================] - 35s 75ms/step - loss: 0.0929 - val_loss: 0.0917\n",
      "Epoch 30/50\n",
      "469/469 [==============================] - 38s 80ms/step - loss: 0.0926 - val_loss: 0.0915\n",
      "Epoch 31/50\n",
      "469/469 [==============================] - 37s 78ms/step - loss: 0.0923 - val_loss: 0.0911\n",
      "Epoch 32/50\n",
      "469/469 [==============================] - 36s 77ms/step - loss: 0.0920 - val_loss: 0.0907\n",
      "Epoch 33/50\n",
      "469/469 [==============================] - 37s 79ms/step - loss: 0.0918 - val_loss: 0.0907\n",
      "Epoch 34/50\n",
      "469/469 [==============================] - 38s 80ms/step - loss: 0.0916 - val_loss: 0.0904\n",
      "Epoch 35/50\n",
      "469/469 [==============================] - 37s 78ms/step - loss: 0.0914 - val_loss: 0.0902\n",
      "Epoch 36/50\n",
      "469/469 [==============================] - 36s 77ms/step - loss: 0.0912 - val_loss: 0.0901\n",
      "Epoch 37/50\n",
      "469/469 [==============================] - 37s 78ms/step - loss: 0.0910 - val_loss: 0.0898\n",
      "Epoch 38/50\n",
      "469/469 [==============================] - 38s 81ms/step - loss: 0.0909 - val_loss: 0.0898\n",
      "Epoch 39/50\n",
      "469/469 [==============================] - 37s 80ms/step - loss: 0.0907 - val_loss: 0.0899\n",
      "Epoch 40/50\n",
      "469/469 [==============================] - 38s 81ms/step - loss: 0.0906 - val_loss: 0.0893\n",
      "Epoch 41/50\n",
      "469/469 [==============================] - 38s 81ms/step - loss: 0.0905 - val_loss: 0.0894\n",
      "Epoch 42/50\n",
      "469/469 [==============================] - 37s 80ms/step - loss: 0.0903 - val_loss: 0.0892\n",
      "Epoch 43/50\n",
      "469/469 [==============================] - 38s 81ms/step - loss: 0.0901 - val_loss: 0.0892\n",
      "Epoch 44/50\n",
      "469/469 [==============================] - 38s 80ms/step - loss: 0.0901 - val_loss: 0.0892\n",
      "Epoch 45/50\n",
      "469/469 [==============================] - 37s 80ms/step - loss: 0.0899 - val_loss: 0.0893\n",
      "Epoch 46/50\n",
      "469/469 [==============================] - 39s 82ms/step - loss: 0.0898 - val_loss: 0.0887\n",
      "Epoch 47/50\n",
      "469/469 [==============================] - 38s 81ms/step - loss: 0.0897 - val_loss: 0.0888\n",
      "Epoch 48/50\n",
      "469/469 [==============================] - 39s 83ms/step - loss: 0.0896 - val_loss: 0.0888\n",
      "Epoch 49/50\n",
      "469/469 [==============================] - 39s 82ms/step - loss: 0.0895 - val_loss: 0.0887\n",
      "Epoch 50/50\n",
      "469/469 [==============================] - 37s 80ms/step - loss: 0.0894 - val_loss: 0.0885\n"
     ]
    }
   ],
   "source": [
    "history = conv_autoencoder.fit(x_train, x_train,\n",
    "                epochs=50,\n",
    "                batch_size=128,\n",
    "                shuffle=True,\n",
    "                validation_data=(x_test, x_test))"
   ]
  },
  {
   "cell_type": "code",
   "execution_count": 27,
   "metadata": {},
   "outputs": [
    {
     "data": {
      "text/plain": [
       "<matplotlib.legend.Legend at 0x27e0029f908>"
      ]
     },
     "execution_count": 27,
     "metadata": {},
     "output_type": "execute_result"
    },
    {
     "data": {
      "image/png": "[encoded data removed]",
      "text/plain": [
       "<Figure size 432x288 with 1 Axes>"
      ]
     },
     "metadata": {
      "needs_background": "light"
     },
     "output_type": "display_data"
    }
   ],
   "source": [
    "loss = history.history['loss']\n",
    "val_loss = history.history['val_loss']\n",
    "\n",
    "epochs = range(50)\n",
    "\n",
    "import matplotlib.pyplot as plt\n",
    "plt.plot(epochs,loss,'r',label='train loss')\n",
    "plt.plot(epochs,val_loss,'b',label='val loss')\n",
    "plt.legend()"
   ]
  },
  {
   "cell_type": "code",
   "execution_count": 28,
   "metadata": {},
   "outputs": [],
   "source": [
    "reconstruc_imgs = conv_autoencoder.predict(x_test)"
   ]
  },
  {
   "cell_type": "code",
   "execution_count": 29,
   "metadata": {},
   "outputs": [
    {
     "data": {
      "image/png": "[encoded data removed]",
      "text/plain": [
       "<Figure size 1440x288 with 20 Axes>"
      ]
     },
     "metadata": {
      "needs_background": "light"
     },
     "output_type": "display_data"
    }
   ],
   "source": [
    "n = 10\n",
    "plt.figure(figsize=(20, 4))\n",
    "for i in range(1, n + 1):\n",
    "    # Display original\n",
    "    ax = plt.subplot(2, n, i)\n",
    "    plt.imshow(x_test[i].reshape(28, 28))\n",
    "    plt.gray()\n",
    "    ax.get_xaxis().set_visible(False)\n",
    "    ax.get_yaxis().set_visible(False)\n",
    "\n",
    "    # Display reconstruction\n",
    "    ax = plt.subplot(2, n, i + n)\n",
    "    plt.imshow(reconstruc_imgs[i].reshape(28, 28))\n",
    "    plt.gray()\n",
    "    ax.get_xaxis().set_visible(False)\n",
    "    ax.get_yaxis().set_visible(False)\n",
    "plt.show()"
   ]
  },
  {
   "cell_type": "code",
   "execution_count": null,
   "metadata": {},
   "outputs": [],
   "source": []
  }
 ],
 "metadata": {
  "kernelspec": {
   "display_name": "Python 3",
   "language": "python",
   "name": "python3"
  },
  "language_info": {
   "codemirror_mode": {
    "name": "ipython",
    "version": 3
   },
   "file_extension": ".py",
   "mimetype": "text/x-python",
   "name": "python",
   "nbconvert_exporter": "python",
   "pygments_lexer": "ipython3",
   "version": "3.8.3"
  }
 },
 "nbformat": 4,
 "nbformat_minor": 4
}
